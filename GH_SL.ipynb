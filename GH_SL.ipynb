{
 "cells": [
  {
   "cell_type": "code",
   "execution_count": 68,
   "id": "4a03014c",
   "metadata": {},
   "outputs": [],
   "source": [
    "import pandas as pd\n",
    "import numpy as np\n",
    "from sklearn.linear_model import LinearRegression\n",
    "from sklearn.model_selection import train_test_split\n",
    "\n",
    "import joblib\n",
    "import streamlit as st"
   ]
  },
  {
   "cell_type": "code",
   "execution_count": 69,
   "id": "555fefac",
   "metadata": {},
   "outputs": [],
   "source": [
    "df = pd.read_csv(\"GH_data_2.csv\")"
   ]
  },
  {
   "cell_type": "code",
   "execution_count": 71,
   "id": "6272ea3a",
   "metadata": {},
   "outputs": [
    {
     "name": "stdout",
     "output_type": "stream",
     "text": [
      "Mean squared error:  3.59524917734168\n",
      "R-squared:  0.5037993774562931\n"
     ]
    }
   ],
   "source": [
    "# Selecting the relevent features and target variable\n",
    "features = ['Sex', 'Height (cm)', 'Weight (KG)', 'Arm Span (cm)',\n",
    "       'How long have you been climbing for (years)?',\n",
    "       'Frequency of climbing sessions per week',\n",
    "       'Average hours climbing per week (not including training)',\n",
    "       'Average hours Training for climbing per week ',\n",
    "       'Campus Board frequency per week ',\n",
    "       'Campus Board time per week (hours)',\n",
    "       'Frequency of Endurance training sesions per week',\n",
    "       'General Strength Training frequency per week ',\n",
    "       'Time spent General strength training per week (hours)',\n",
    "       'Max pull up reps', 'Max push ups reps', 'BMI', 'APE', 'Pullup ratio']\n",
    "target = 'Hardest V Grade ever climbed '\n",
    "\n",
    "\n",
    "# Split data\n",
    "X_train, X_test, y_train, y_test = train_test_split(df[features], df[target], test_size=0.2, random_state=42)\n",
    "\n",
    "# Fit linear regression model\n",
    "model = LinearRegression()\n",
    "model.fit(X_train, y_train)\n",
    "\n",
    "mse = np.mean((model.predict(X_test) - y_test) ** 2)\n",
    "r_squared = model.score(X_test, y_test)\n",
    "\n",
    "print(\"Mean squared error: \", mse)\n",
    "print(\"R-squared: \", r_squared)"
   ]
  },
  {
   "cell_type": "code",
   "execution_count": 72,
   "id": "2eef084f",
   "metadata": {},
   "outputs": [
    {
     "data": {
      "text/plain": [
       "['model.pkl']"
      ]
     },
     "execution_count": 72,
     "metadata": {},
     "output_type": "execute_result"
    }
   ],
   "source": [
    "joblib.dump(model, 'model.pkl')"
   ]
  },
  {
   "cell_type": "code",
   "execution_count": 73,
   "id": "29454213",
   "metadata": {},
   "outputs": [],
   "source": [
    "model = joblib.load('model.pkl')\n",
    "\n",
    "def predict_v_grade(data):\n",
    "    prediction = model.predict(data)\n",
    "    return prediction"
   ]
  },
  {
   "cell_type": "code",
   "execution_count": 76,
   "id": "a87c4e4e",
   "metadata": {},
   "outputs": [],
   "source": [
    "#\n",
    "def app():\n",
    "    # Set title and instructions\n",
    "    st.title('Climbing Grade Predictor')\n",
    "    st.write('Enter the following details to predict your climbing grade')\n",
    "\n",
    "    # Collecting the relevent inputs from users \n",
    "    sex_mapping = {'Male': 1, 'Female': 2}\n",
    "    sex = st.selectbox('Sex', list(sex_mapping.keys()), format_func=lambda x: x)\n",
    "    sex = sex_mapping[sex]\n",
    "    height = st.number_input('Height (cm)')\n",
    "    weight = st.number_input('Weight (KG)')\n",
    "    arm_span = st.number_input('Arm Span (cm)')\n",
    "    climbing_experience = st.number_input('How long have you been climbing for (years)?')\n",
    "    frequency_sessions = st.number_input('Frequency of climbing sessions per week')\n",
    "    avg_hours_climbing = st.number_input('Average hours climbing per week (not including training)')\n",
    "    avg_hours_training = st.number_input('Average hours Training for climbing per week')\n",
    "    campus_board_freq = st.number_input('Campus Board frequency per week')\n",
    "    campus_board_time = st.number_input('Campus Board time per week (hours)')\n",
    "    endurance_freq = st.number_input('Frequency of Endurance training sesions per week')\n",
    "    strength_freq = st.number_input('General Strength Training frequency per week')\n",
    "    strength_time = st.number_input('Time spent General strength training per week (hours)')\n",
    "    max_pullups = st.number_input('Max pull up reps')\n",
    "    max_pushups = st.number_input('Max push ups reps')\n",
    "    bmi = st.number_input('BMI')\n",
    "    ape = st.number_input('APE')\n",
    "    pullup_ratio = st.number_input('Pullup ratio')\n",
    "\n",
    "    #Creating the dataframe with the inputs above\n",
    "    data = pd.DataFrame({'Sex': sex, 'Height (cm)': height, 'Weight (KG)': weight, 'Arm Span (cm)': arm_span,\n",
    "            'How long have you been climbing for?': climbing_experience,\n",
    "            'Frequency of climbing sessions per week': frequency_sessions,\n",
    "            'Average hours climbing per week (not including training)': avg_hours_climbing,\n",
    "            'Average hours Training for climbing per week ': avg_hours_training,\n",
    "            'Campus Board frequency per week ': campus_board_freq,\n",
    "            'Campus Board time per week (hours)': campus_board_time,\n",
    "            'Frequency of Endurance training sesions per week': endurance_freq,\n",
    "            'General Strength Training frequency per week ': strength_freq,\n",
    "            'Time spent General strength training (hours)': strength_time, 'Max pull up reps': max_pullups,\n",
    "            'max push ups reps': max_pushups, 'BMI': bmi, 'APE': ape, 'pullup_ratio': pullup_ratio}, index=[0])\n",
    "\n",
    "    #Predict the V grade when the button is clicked\n",
    "    if st.button('Predict'):\n",
    "        prediction = predict_v_grade(data)\n",
    "        prediction_mapped = None\n",
    "        for key, value in mapping.items():\n",
    "            if key[0] <= prediction[0] <= key[1]:\n",
    "                prediction_mapped = value\n",
    "                break\n",
    "        st.write(f'Your predicted hardest V grade is: {prediction_mapped}')\n",
    "\n",
    "#Map the result of the prediction to the V grade it corresponds to\n",
    "mapping = {\n",
    "        (0.0, 0.99): 'V1-V2',\n",
    "        (1.0, 2.00): 'V3',\n",
    "        (2.1, 3.0): 'V4',\n",
    "        (3.1, 4.0): 'V5',\n",
    "        (4.1, 5.0): 'V6',\n",
    "        (5.1, 6.0): 'V7',\n",
    "        (6.1, 7.0): 'V8',\n",
    "        (7.1, 8.0): 'V9',\n",
    "        (8.1, 9.0): 'V10',\n",
    "        (9.1, 10.0): 'V11',\n",
    "        (10.1, 11.0): 'V12',\n",
    "        (11.1, 12.0): 'V13',\n",
    "        (12.1, 13.0): 'V14',\n",
    "        (13.1, 14.0): 'V15',\n",
    "        (14.1, 15.0): 'V16',\n",
    "        (15.1, 16.0): 'V17',\n",
    "        (16.1, 17.0): 'V18',\n",
    "    }"
   ]
  },
  {
   "cell_type": "code",
   "execution_count": 77,
   "id": "ed42cda8",
   "metadata": {},
   "outputs": [],
   "source": [
    "if __name__ == '__main__':\n",
    "    app()\n"
   ]
  },
  {
   "cell_type": "code",
   "execution_count": null,
   "id": "eaab5c6d",
   "metadata": {},
   "outputs": [],
   "source": []
  }
 ],
 "metadata": {
  "kernelspec": {
   "display_name": "Python 3 (ipykernel)",
   "language": "python",
   "name": "python3"
  },
  "language_info": {
   "codemirror_mode": {
    "name": "ipython",
    "version": 3
   },
   "file_extension": ".py",
   "mimetype": "text/x-python",
   "name": "python",
   "nbconvert_exporter": "python",
   "pygments_lexer": "ipython3",
   "version": "3.9.13"
  }
 },
 "nbformat": 4,
 "nbformat_minor": 5
}
