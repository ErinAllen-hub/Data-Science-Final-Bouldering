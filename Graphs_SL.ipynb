{
 "cells": [
  {
   "cell_type": "code",
   "execution_count": 1,
   "id": "711df948",
   "metadata": {},
   "outputs": [],
   "source": [
    "import streamlit as st\n",
    "import pandas as pd\n",
    "import matplotlib.pyplot as plt\n",
    "import seaborn as sns\n",
    "import numpy as np\n",
    "\n",
    "df = pd.read_csv('Combined_graphs.csv')\n"
   ]
  },
  {
   "cell_type": "code",
   "execution_count": 7,
   "id": "13ba044b",
   "metadata": {},
   "outputs": [],
   "source": [
    "#add a title and description for the streamlit dashboard\n",
    "st.title('Bouldering Ability Dashboard')\n",
    "st.write('Here is a dashboard showing the effects of various strength and body composition features on a persons ability to boulder.')"
   ]
  },
  {
   "cell_type": "code",
   "execution_count": 8,
   "id": "bfe13cfa",
   "metadata": {},
   "outputs": [],
   "source": [
    "#define the pie chart for gender\n",
    "def plot_gender():\n",
    "    st.write('This pie chart shows the gender distribution of boulderers in the dataset.')\n",
    "    grouped = df.groupby(df.columns[0]).count().max(axis=1)\n",
    "\n",
    "    labels = ['Female', 'Male', 'Other']\n",
    "    colors = ['purple', 'thistle', 'indigo']\n",
    "\n",
    "    fig, ax = plt.subplots(figsize=(6, 6))\n",
    "    ax.pie(grouped, labels=labels, colors=colors, autopct='%1.1f%%')\n",
    "    ax.set_title('Gender of Boulderers')\n",
    "    ax.set_ylabel('')\n",
    "\n",
    "    ax.legend(labels=labels)\n",
    "\n",
    "    st.pyplot(fig)\n",
    "\n",
    "plot_gender()\n",
    "\n"
   ]
  },
  {
   "cell_type": "code",
   "execution_count": 9,
   "id": "911b6176",
   "metadata": {},
   "outputs": [],
   "source": [
    "#create and add all the histograms for the main selected features\n",
    "st.write('Select a graph of the various features related to climbing to see the distributions')\n",
    "\n",
    "def plot_height():\n",
    "    fig, ax = plt.subplots()\n",
    "    ax.hist(df[df.columns[5]], bins=int(df[df.columns[5]].max()-df[df.columns[5]].min()),\n",
    "            color='purple', edgecolor='white', linewidth=1.2)\n",
    "    ax.set_title('Height Distribution')\n",
    "    ax.set_xlabel('Height (cm)')\n",
    "    ax.set_ylabel('Count')\n",
    "    return fig\n",
    "\n",
    "def plot_Weight():\n",
    "    fig, ax = plt.subplots(figsize=(15, 5))\n",
    "    ax.hist(df[df.columns[6]], bins=int(df[df.columns[6]].max()-df[df.columns[6]].min()),\n",
    "            color='purple', edgecolor='white', linewidth=1.2)\n",
    "    ax.set_title('Weight Distribution')\n",
    "    ax.set_xlabel('Weight (KG)')\n",
    "    ax.set_ylabel('Count')\n",
    "    return fig\n",
    "\n",
    "def plot_Span():\n",
    "    fig, ax = plt.subplots(figsize=(15, 5))\n",
    "    ax.hist(df[df.columns[7]], bins=int(df[df.columns[7]].max()-df[df.columns[7]].min()),\n",
    "            color='purple', edgecolor='white', linewidth=1.2)\n",
    "    ax.set_title('Span Distribution')\n",
    "    ax.set_xlabel('Span (cm)')\n",
    "    ax.set_ylabel('Count')\n",
    "    return fig\n",
    "    \n",
    "def plot_maxb():\n",
    "    fig, ax = plt.subplots(figsize=(15, 5))\n",
    "    ax.hist(df[df.columns[1]], bins=int(df[df.columns[1]].max()-df[df.columns[1]].min()),\n",
    "            color='purple', edgecolor='white', linewidth=1.2)\n",
    "    ax.set_title('Max Boulder Distribution')\n",
    "    ax.set_xlabel('Max Boulder')\n",
    "    ax.set_ylabel('Count')\n",
    "    return fig\n",
    "\n",
    "#create a dropdown menu to select which plot to display on the dashboard\n",
    "plot_choice = st.selectbox('Select a plot', (\"Height Distribution\", \"Weight Distribution\",\"Span Distribution\",\"Max Boulder Distribution\" ))\n",
    "\n",
    "if plot_choice == \"Height Distribution\":\n",
    "    fig = plot_height()\n",
    "    st.pyplot(fig)\n",
    "elif plot_choice == \"Weight Distribution\":\n",
    "    fig = plot_Weight()\n",
    "    st.pyplot(fig)\n",
    "elif plot_choice == \"Span Distribution\":\n",
    "    fig = plot_Span()\n",
    "    st.pyplot(fig)\n",
    "elif plot_choice == \"Max Boulder Distribution\":\n",
    "    fig = plot_maxb()\n",
    "    st.pyplot(fig)\n"
   ]
  },
  {
   "cell_type": "code",
   "execution_count": 10,
   "id": "639c2efc",
   "metadata": {},
   "outputs": [
    {
     "data": {
      "text/plain": [
       "DeltaGenerator()"
      ]
     },
     "execution_count": 10,
     "metadata": {},
     "output_type": "execute_result"
    }
   ],
   "source": [
    "#define the graph for variables separated by male and female values\n",
    "\n",
    "st.write('This shows the comparison of male and female climbers on the various included features')\n",
    "\n",
    "def plot_gender_profile():\n",
    "    profile_vars = ['exp', 'pullup', 'pushup', 'height (cm)', 'weight (kg)', 'span (cm)', 'BMI', 'APE', 'pullup_ratio']\n",
    "\n",
    "    fig, axs = plt.subplots(ncols=2, figsize=(20,5))\n",
    "\n",
    "    male_data = df.loc[df['gender'] == 'Male', profile_vars]\n",
    "    male_data.mean().plot.bar(title=\"Male climber profile\", ax=axs[0], color='purple')\n",
    "\n",
    "    female_data = df.loc[df['gender'] == 'Female', profile_vars]\n",
    "    female_data.mean().plot.bar(title=\"Female climber profile\", ax=axs[1], color='purple')\n",
    "\n",
    "    axs[0].set_xlabel('Variables')\n",
    "    axs[0].set_ylabel('Mean Value')\n",
    "    axs[1].set_xlabel('Variables')\n",
    "    axs[1].set_ylabel('Mean Value')\n",
    "    fig.suptitle('Male vs Female Climber Profile', fontsize=20)\n",
    "\n",
    "    return fig\n",
    "\n",
    "fig = plot_gender_profile()\n",
    "st.pyplot(fig)\n"
   ]
  },
  {
   "cell_type": "code",
   "execution_count": 11,
   "id": "3c79459b",
   "metadata": {},
   "outputs": [
    {
     "data": {
      "text/plain": [
       "DeltaGenerator()"
      ]
     },
     "execution_count": 11,
     "metadata": {},
     "output_type": "execute_result"
    }
   ],
   "source": [
    "#add a graph showing the importance and correlation of the selected features based on max boulder\n",
    "st.write('The below graph demonstrates how important each of the selected features is for climbing ability and maximum boulder a climber can do')\n",
    "\n",
    "def spearman(frame, features):\n",
    "    spr = pd.DataFrame()\n",
    "    spr['feature'] = features\n",
    "    spr['spearman'] = [frame[f].corr(frame['max_boulder'], 'spearman') for f in features]\n",
    "    spr = spr.sort_values('spearman')\n",
    "\n",
    "    palette = sns.color_palette(\"Purples_r\", len(spr))\n",
    "\n",
    "    plt.figure(figsize=(6, 0.25*len(features)))\n",
    "    sns.barplot(data=spr, y='feature', x='spearman', orient='h', palette=palette)\n",
    "    plt.title('Spearman correlation with max_boulder')\n",
    "    plt.xlabel('Spearman correlation')\n",
    "    \n",
    "quant_feat =['sex', 'exp', 'pullup', 'pushup', 'height (cm)', 'weight (kg)', 'span (cm)', 'BMI', 'APE', 'pullup_ratio']\n",
    "\n",
    "st.set_option('deprecation.showPyplotGlobalUse', False)\n",
    "st.pyplot(spearman(df, quant_feat))\n"
   ]
  },
  {
   "cell_type": "code",
   "execution_count": 15,
   "id": "95a9a1bc",
   "metadata": {},
   "outputs": [],
   "source": [
    "#graph of top and bottom climbers and how they differ on the selected features\n",
    "def plot_climbing_metrics(df):\n",
    "    compare_vars = [\"exp\", \"pullup\", \"pushup\", \"height (cm)\", \"weight (kg)\", \"span (cm)\", \"BMI\", \"APE\", \"pullup_ratio\"]\n",
    "\n",
    "    grouped = df.groupby(\"top_or_bottom\")[compare_vars].mean()\n",
    "\n",
    "    diff_mean = grouped.loc[\"Top\"] - grouped.loc[\"Bottom\"]\n",
    "\n",
    "    fig, ax = plt.subplots(figsize=(10,6))\n",
    "    diff_mean.plot.barh(ax=ax, color=\"purple\")\n",
    "\n",
    "    ax.set_title(\"Comparison of Top and Bottom Climbers on Selected Metrics\")\n",
    "    ax.set_xlabel(\"Mean Difference\")\n",
    "\n",
    "    st.pyplot(fig)\n",
    "\n",
    "    st.write('This graph shows the mean difference between the top and bottom climbers for each selected metric. A positive value means that the mean of the top climbers is higher than the mean of the bottom climbers, and a negative value means that the mean of the bottom climbers is higher. Looking at the graph, we can see that the top climbers have higher values for pullup, pushup, APE, and pullup_ratio, while the bottom climbers have higher values for BMI. The other metrics do not show a clear difference between the top and bottom climbers. Therefore, we can say that the top climbers generally have better upper body strength (as indicated by higher values for pullup and pushup), longer arms (as indicated by higher values for APE), and a lower BMI, while the bottom climbers have a higher BMI.')\n",
    "    \n",
    "plot_climbing_metrics(df)"
   ]
  },
  {
   "cell_type": "code",
   "execution_count": null,
   "id": "4262c319",
   "metadata": {},
   "outputs": [],
   "source": []
  }
 ],
 "metadata": {
  "kernelspec": {
   "display_name": "Python 3 (ipykernel)",
   "language": "python",
   "name": "python3"
  },
  "language_info": {
   "codemirror_mode": {
    "name": "ipython",
    "version": 3
   },
   "file_extension": ".py",
   "mimetype": "text/x-python",
   "name": "python",
   "nbconvert_exporter": "python",
   "pygments_lexer": "ipython3",
   "version": "3.9.13"
  }
 },
 "nbformat": 4,
 "nbformat_minor": 5
}
